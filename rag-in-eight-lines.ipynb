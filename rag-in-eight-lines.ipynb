{
 "cells": [
  {
   "cell_type": "code",
   "execution_count": 4,
   "metadata": {},
   "outputs": [
    {
     "name": "stderr",
     "output_type": "stream",
     "text": [
      "huggingface/tokenizers: The current process just got forked, after parallelism has already been used. Disabling parallelism to avoid deadlocks...\n",
      "To disable this warning, you can either:\n",
      "\t- Avoid using `tokenizers` before the fork if possible\n",
      "\t- Explicitly set the environment variable TOKENIZERS_PARALLELISM=(true | false)\n"
     ]
    },
    {
     "name": "stdout",
     "output_type": "stream",
     "text": [
      "Requirement already satisfied: sentence_transformers in /home/bruce/miniconda3/envs/naive-rag/lib/python3.13/site-packages (4.1.0)\n",
      "Requirement already satisfied: transformers<5.0.0,>=4.41.0 in /home/bruce/miniconda3/envs/naive-rag/lib/python3.13/site-packages (from sentence_transformers) (4.52.4)\n",
      "Requirement already satisfied: tqdm in /home/bruce/miniconda3/envs/naive-rag/lib/python3.13/site-packages (from sentence_transformers) (4.67.1)\n",
      "Requirement already satisfied: torch>=1.11.0 in /home/bruce/miniconda3/envs/naive-rag/lib/python3.13/site-packages (from sentence_transformers) (2.7.0)\n",
      "Requirement already satisfied: scikit-learn in /home/bruce/miniconda3/envs/naive-rag/lib/python3.13/site-packages (from sentence_transformers) (1.6.1)\n",
      "Requirement already satisfied: scipy in /home/bruce/miniconda3/envs/naive-rag/lib/python3.13/site-packages (from sentence_transformers) (1.15.3)\n",
      "Requirement already satisfied: huggingface-hub>=0.20.0 in /home/bruce/miniconda3/envs/naive-rag/lib/python3.13/site-packages (from sentence_transformers) (0.32.4)\n",
      "Requirement already satisfied: Pillow in /home/bruce/miniconda3/envs/naive-rag/lib/python3.13/site-packages (from sentence_transformers) (11.2.1)\n",
      "Requirement already satisfied: typing_extensions>=4.5.0 in /home/bruce/miniconda3/envs/naive-rag/lib/python3.13/site-packages (from sentence_transformers) (4.14.0)\n",
      "Requirement already satisfied: filelock in /home/bruce/miniconda3/envs/naive-rag/lib/python3.13/site-packages (from transformers<5.0.0,>=4.41.0->sentence_transformers) (3.18.0)\n",
      "Requirement already satisfied: numpy>=1.17 in /home/bruce/miniconda3/envs/naive-rag/lib/python3.13/site-packages (from transformers<5.0.0,>=4.41.0->sentence_transformers) (2.2.6)\n",
      "Requirement already satisfied: packaging>=20.0 in /home/bruce/miniconda3/envs/naive-rag/lib/python3.13/site-packages (from transformers<5.0.0,>=4.41.0->sentence_transformers) (24.2)\n",
      "Requirement already satisfied: pyyaml>=5.1 in /home/bruce/miniconda3/envs/naive-rag/lib/python3.13/site-packages (from transformers<5.0.0,>=4.41.0->sentence_transformers) (6.0.2)\n",
      "Requirement already satisfied: regex!=2019.12.17 in /home/bruce/miniconda3/envs/naive-rag/lib/python3.13/site-packages (from transformers<5.0.0,>=4.41.0->sentence_transformers) (2024.11.6)\n",
      "Requirement already satisfied: requests in /home/bruce/miniconda3/envs/naive-rag/lib/python3.13/site-packages (from transformers<5.0.0,>=4.41.0->sentence_transformers) (2.32.2)\n",
      "Requirement already satisfied: tokenizers<0.22,>=0.21 in /home/bruce/miniconda3/envs/naive-rag/lib/python3.13/site-packages (from transformers<5.0.0,>=4.41.0->sentence_transformers) (0.21.1)\n",
      "Requirement already satisfied: safetensors>=0.4.3 in /home/bruce/miniconda3/envs/naive-rag/lib/python3.13/site-packages (from transformers<5.0.0,>=4.41.0->sentence_transformers) (0.5.3)\n",
      "Requirement already satisfied: fsspec>=2023.5.0 in /home/bruce/miniconda3/envs/naive-rag/lib/python3.13/site-packages (from huggingface-hub>=0.20.0->sentence_transformers) (2025.5.1)\n",
      "Requirement already satisfied: hf-xet<2.0.0,>=1.1.2 in /home/bruce/miniconda3/envs/naive-rag/lib/python3.13/site-packages (from huggingface-hub>=0.20.0->sentence_transformers) (1.1.3)\n",
      "Requirement already satisfied: setuptools in /home/bruce/miniconda3/envs/naive-rag/lib/python3.13/site-packages (from torch>=1.11.0->sentence_transformers) (80.9.0)\n",
      "Requirement already satisfied: sympy>=1.13.3 in /home/bruce/miniconda3/envs/naive-rag/lib/python3.13/site-packages (from torch>=1.11.0->sentence_transformers) (1.14.0)\n",
      "Requirement already satisfied: networkx in /home/bruce/miniconda3/envs/naive-rag/lib/python3.13/site-packages (from torch>=1.11.0->sentence_transformers) (3.5)\n",
      "Requirement already satisfied: jinja2 in /home/bruce/miniconda3/envs/naive-rag/lib/python3.13/site-packages (from torch>=1.11.0->sentence_transformers) (3.1.6)\n",
      "Requirement already satisfied: nvidia-cuda-nvrtc-cu12==12.6.77 in /home/bruce/miniconda3/envs/naive-rag/lib/python3.13/site-packages (from torch>=1.11.0->sentence_transformers) (12.6.77)\n",
      "Requirement already satisfied: nvidia-cuda-runtime-cu12==12.6.77 in /home/bruce/miniconda3/envs/naive-rag/lib/python3.13/site-packages (from torch>=1.11.0->sentence_transformers) (12.6.77)\n",
      "Requirement already satisfied: nvidia-cuda-cupti-cu12==12.6.80 in /home/bruce/miniconda3/envs/naive-rag/lib/python3.13/site-packages (from torch>=1.11.0->sentence_transformers) (12.6.80)\n",
      "Requirement already satisfied: nvidia-cudnn-cu12==9.5.1.17 in /home/bruce/miniconda3/envs/naive-rag/lib/python3.13/site-packages (from torch>=1.11.0->sentence_transformers) (9.5.1.17)\n",
      "Requirement already satisfied: nvidia-cublas-cu12==12.6.4.1 in /home/bruce/miniconda3/envs/naive-rag/lib/python3.13/site-packages (from torch>=1.11.0->sentence_transformers) (12.6.4.1)\n",
      "Requirement already satisfied: nvidia-cufft-cu12==11.3.0.4 in /home/bruce/miniconda3/envs/naive-rag/lib/python3.13/site-packages (from torch>=1.11.0->sentence_transformers) (11.3.0.4)\n",
      "Requirement already satisfied: nvidia-curand-cu12==10.3.7.77 in /home/bruce/miniconda3/envs/naive-rag/lib/python3.13/site-packages (from torch>=1.11.0->sentence_transformers) (10.3.7.77)\n",
      "Requirement already satisfied: nvidia-cusolver-cu12==11.7.1.2 in /home/bruce/miniconda3/envs/naive-rag/lib/python3.13/site-packages (from torch>=1.11.0->sentence_transformers) (11.7.1.2)\n",
      "Requirement already satisfied: nvidia-cusparse-cu12==12.5.4.2 in /home/bruce/miniconda3/envs/naive-rag/lib/python3.13/site-packages (from torch>=1.11.0->sentence_transformers) (12.5.4.2)\n",
      "Requirement already satisfied: nvidia-cusparselt-cu12==0.6.3 in /home/bruce/miniconda3/envs/naive-rag/lib/python3.13/site-packages (from torch>=1.11.0->sentence_transformers) (0.6.3)\n",
      "Requirement already satisfied: nvidia-nccl-cu12==2.26.2 in /home/bruce/miniconda3/envs/naive-rag/lib/python3.13/site-packages (from torch>=1.11.0->sentence_transformers) (2.26.2)\n",
      "Requirement already satisfied: nvidia-nvtx-cu12==12.6.77 in /home/bruce/miniconda3/envs/naive-rag/lib/python3.13/site-packages (from torch>=1.11.0->sentence_transformers) (12.6.77)\n",
      "Requirement already satisfied: nvidia-nvjitlink-cu12==12.6.85 in /home/bruce/miniconda3/envs/naive-rag/lib/python3.13/site-packages (from torch>=1.11.0->sentence_transformers) (12.6.85)\n",
      "Requirement already satisfied: nvidia-cufile-cu12==1.11.1.6 in /home/bruce/miniconda3/envs/naive-rag/lib/python3.13/site-packages (from torch>=1.11.0->sentence_transformers) (1.11.1.6)\n",
      "Requirement already satisfied: triton==3.3.0 in /home/bruce/miniconda3/envs/naive-rag/lib/python3.13/site-packages (from torch>=1.11.0->sentence_transformers) (3.3.0)\n",
      "Requirement already satisfied: mpmath<1.4,>=1.1.0 in /home/bruce/miniconda3/envs/naive-rag/lib/python3.13/site-packages (from sympy>=1.13.3->torch>=1.11.0->sentence_transformers) (1.3.0)\n",
      "Requirement already satisfied: MarkupSafe>=2.0 in /home/bruce/miniconda3/envs/naive-rag/lib/python3.13/site-packages (from jinja2->torch>=1.11.0->sentence_transformers) (3.0.2)\n",
      "Requirement already satisfied: charset-normalizer<4,>=2 in /home/bruce/miniconda3/envs/naive-rag/lib/python3.13/site-packages (from requests->transformers<5.0.0,>=4.41.0->sentence_transformers) (3.4.2)\n",
      "Requirement already satisfied: idna<4,>=2.5 in /home/bruce/miniconda3/envs/naive-rag/lib/python3.13/site-packages (from requests->transformers<5.0.0,>=4.41.0->sentence_transformers) (3.10)\n",
      "Requirement already satisfied: urllib3<3,>=1.21.1 in /home/bruce/miniconda3/envs/naive-rag/lib/python3.13/site-packages (from requests->transformers<5.0.0,>=4.41.0->sentence_transformers) (2.4.0)\n",
      "Requirement already satisfied: certifi>=2017.4.17 in /home/bruce/miniconda3/envs/naive-rag/lib/python3.13/site-packages (from requests->transformers<5.0.0,>=4.41.0->sentence_transformers) (2025.4.26)\n",
      "Requirement already satisfied: joblib>=1.2.0 in /home/bruce/miniconda3/envs/naive-rag/lib/python3.13/site-packages (from scikit-learn->sentence_transformers) (1.5.1)\n",
      "Requirement already satisfied: threadpoolctl>=3.1.0 in /home/bruce/miniconda3/envs/naive-rag/lib/python3.13/site-packages (from scikit-learn->sentence_transformers) (3.6.0)\n",
      "Note: you may need to restart the kernel to use updated packages.\n"
     ]
    }
   ],
   "source": [
    "%pip install sentence_transformers"
   ]
  },
  {
   "cell_type": "markdown",
   "metadata": {},
   "source": [
    "When an embedding model creates a vector representation of a sentence, the embedding model assigns values that capture the semantic meaning of the sentence. The embedding model also positions the vector within a multidimensional space based on its assigned values. The size of the dimensional space varies by model, which means the exact vector values vary also. However, all models position the vectors such that sentences with similar meanings are nearer to one another.\n",
    "\n",
    "![embeddings](./assets/fm-embedding-space.svg)\n",
    "\n",
    "The image shows that sentences with shared keywords and with shared subjects have vectors with similar values, which places them nearer to each other within the three-dimensional space. The following sentences are positioned based on their vector values:\n",
    "\n",
    "- The Degas reproduction is hanging in the den\n",
    "- Jan bought a painting of dogs playing cards\n",
    "- I took my dogs for a walk\n",
    "\n",
    "The first two sentences about artwork and last two sentences that share the keyword dogs are nearer to one another than the first and third sentences, which share no common words or meanings.\n"
   ]
  },
  {
   "cell_type": "markdown",
   "metadata": {},
   "source": [
    "The model can then be used to encode pairs of text and find the similarity between their representations.\n"
   ]
  },
  {
   "cell_type": "code",
   "execution_count": 5,
   "metadata": {},
   "outputs": [
    {
     "name": "stdout",
     "output_type": "stream",
     "text": [
      "tensor([[0.8829, 0.4214],\n",
      "        [0.4844, 0.8141]])\n"
     ]
    }
   ],
   "source": [
    "from sentence_transformers import SentenceTransformer, util\n",
    "\n",
    "model_path = \"ibm-granite/granite-embedding-107m-multilingual\"\n",
    "# Load the Sentence Transformer model\n",
    "model = SentenceTransformer(model_path)\n",
    "\n",
    "input_queries = [\n",
    "    ' Who made the song My achy breaky heart? ',\n",
    "    'summit define'\n",
    "    ]\n",
    "\n",
    "input_passages = [\n",
    "    \"Achy Breaky Heart is a country song written by Don Von Tress. Originally titled Don't Tell My Heart and performed by The Marcy Brothers in 1991. \",\n",
    "    \"Definition of summit for English Language Learners. : 1 the highest point of a mountain : the top of a mountain. : 2 the highest level. : 3 a meeting or series of meetings between the leaders of two or more governments.\"\n",
    "    ]\n",
    "\n",
    "\n",
    "# encode queries and passages\n",
    "query_embeddings = model.encode(input_queries)\n",
    "passage_embeddings = model.encode(input_passages)\n",
    "\n",
    "# calculate cosine similarity\n",
    "print(util.cos_sim(query_embeddings, passage_embeddings))"
   ]
  },
  {
   "cell_type": "markdown",
   "metadata": {},
   "source": [
    "**Observation**\n",
    "\n",
    "The first question \"who made the song...\" is answered by the first passage at about 88% compared to 42% for summit definition\n",
    "\n",
    "The second question, \"define summit\" is answered by the second passage with about 81%."
   ]
  },
  {
   "cell_type": "code",
   "execution_count": 6,
   "metadata": {},
   "outputs": [
    {
     "name": "stdout",
     "output_type": "stream",
     "text": [
      "tensor([[0.5410, 0.7081, 0.8883]])\n"
     ]
    }
   ],
   "source": [
    "\n",
    "input_queries = [\"Who took the dogs for a walk\"]\n",
    "\n",
    "input_passages = [\n",
    "    'The Degas reproduction is hanging in the den ',\n",
    "    'Jan bought a painting of dogs playing cards',\n",
    "    \"I took my dogs for a walk\"\n",
    "    ]\n",
    "\n",
    "# encode queries and passages\n",
    "query_embeddings = model.encode(input_queries)\n",
    "passage_embeddings = model.encode(input_passages)\n",
    "\n",
    "# calculate cosine similarity\n",
    "print(util.cos_sim(query_embeddings, passage_embeddings))"
   ]
  },
  {
   "cell_type": "markdown",
   "metadata": {},
   "source": [
    "**Observation**\n",
    "\n",
    "The response looks like the third sentence answers best.\n",
    "\n",
    "**Next step:** Have an LLM generate a response given that the RAG retrieved the best answer."
   ]
  },
  {
   "cell_type": "markdown",
   "metadata": {},
   "source": [
    "## References"
   ]
  },
  {
   "cell_type": "markdown",
   "metadata": {},
   "source": [
    "- [Text embeddings overview](https://www.ibm.com/docs/en/watsonx/w-and-w/2.1.0?topic=embeddings-text-overview)\n",
    "- Hugging Face [ibm-granite/granite-embedding-107m-multilingual](https://huggingface.co/ibm-granite/granite-embedding-107m-multilingual)\n"
   ]
  },
  {
   "cell_type": "markdown",
   "metadata": {},
   "source": [
    "\n",
    "Model Architecture: **Granite-Embedding-107m-Multilingual** is based on an encoder-only XLM-RoBERTa like transformer architecture, trained internally at IBM Research."
   ]
  }
 ],
 "metadata": {
  "kernelspec": {
   "display_name": "naive-rag",
   "language": "python",
   "name": "python3"
  },
  "language_info": {
   "codemirror_mode": {
    "name": "ipython",
    "version": 3
   },
   "file_extension": ".py",
   "mimetype": "text/x-python",
   "name": "python",
   "nbconvert_exporter": "python",
   "pygments_lexer": "ipython3",
   "version": "3.13.3"
  }
 },
 "nbformat": 4,
 "nbformat_minor": 2
}
